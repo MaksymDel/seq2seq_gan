{
 "cells": [
  {
   "cell_type": "code",
   "execution_count": 20,
   "metadata": {},
   "outputs": [],
   "source": [
    "import copy"
   ]
  },
  {
   "cell_type": "code",
   "execution_count": 21,
   "metadata": {},
   "outputs": [],
   "source": [
    "SEQ_LEN=10"
   ]
  },
  {
   "cell_type": "code",
   "execution_count": 22,
   "metadata": {},
   "outputs": [],
   "source": [
    "#digits_file = \"dev_digits.txt\"\n",
    "#letters_file = \"dev_letters.txt\"\n",
    "digits_file = \"train_digits.txt\"\n",
    "letters_file = \"train_letters.txt\""
   ]
  },
  {
   "cell_type": "code",
   "execution_count": 23,
   "metadata": {},
   "outputs": [],
   "source": [
    "digits_file_answers = \"answers_\" + digits_file\n",
    "letters_file_answers = \"answers_\" + letters_file"
   ]
  },
  {
   "cell_type": "code",
   "execution_count": 24,
   "metadata": {},
   "outputs": [],
   "source": [
    "digits_src = []\n",
    "with open(digits_file) as f:\n",
    "    digits_src = f.readlines()\n",
    "    digits_src = [l.strip(\"\\n\") for l in digits_src]\n",
    "    digits_src = [l.split(' ') for l in digits_src]\n",
    "    for i in range(len(digits_src)):\n",
    "        digits_src[i] = [int(d) for d in digits_src[i]]\n",
    "    \n",
    "letters_src = []\n",
    "with open(letters_file) as f:\n",
    "    letters_src = f.readlines()\n",
    "    letters_src = [l.strip(\"\\n\").split(\" \") for l in letters_src]"
   ]
  },
  {
   "cell_type": "code",
   "execution_count": 25,
   "metadata": {},
   "outputs": [],
   "source": [
    "dig_list = [d for d in range(1,10)]\n",
    "let_list = ['a', 'b', 'c', 'd', 'e', 'f', 'g', 'h', 'i']\n",
    "let2dig = dict(zip(let_list, dig_list))\n",
    "dig2let = dict(zip(dig_list, let_list))"
   ]
  },
  {
   "cell_type": "code",
   "execution_count": 26,
   "metadata": {},
   "outputs": [],
   "source": [
    "answers_digits = copy.deepcopy(digits_src)\n",
    "for i in range(len(digits_src)):\n",
    "    for j in range(SEQ_LEN):\n",
    "        answers_digits[i][j] = dig2let[digits_src[i][j]]"
   ]
  },
  {
   "cell_type": "code",
   "execution_count": 27,
   "metadata": {},
   "outputs": [],
   "source": [
    "answers_letters = copy.deepcopy(digits_src)\n",
    "for i in range(len(letters_src)):\n",
    "    for j in range(SEQ_LEN):\n",
    "        answers_letters[i][j] = let2dig[letters_src[i][j]]"
   ]
  },
  {
   "cell_type": "code",
   "execution_count": 28,
   "metadata": {},
   "outputs": [
    {
     "data": {
      "text/plain": [
       "[7, 5, 3, 5, 9, 7, 2, 1, 9, 2]"
      ]
     },
     "execution_count": 28,
     "metadata": {},
     "output_type": "execute_result"
    }
   ],
   "source": [
    "digits_src[1]"
   ]
  },
  {
   "cell_type": "code",
   "execution_count": 29,
   "metadata": {},
   "outputs": [
    {
     "data": {
      "text/plain": [
       "['g', 'e', 'c', 'e', 'i', 'g', 'b', 'a', 'i', 'b']"
      ]
     },
     "execution_count": 29,
     "metadata": {},
     "output_type": "execute_result"
    }
   ],
   "source": [
    "answers_digits[1]"
   ]
  },
  {
   "cell_type": "code",
   "execution_count": 30,
   "metadata": {},
   "outputs": [
    {
     "data": {
      "text/plain": [
       "['g', 'b', 'a', 'i', 'i', 'b', 'c', 'i', 'g', 'e']"
      ]
     },
     "execution_count": 30,
     "metadata": {},
     "output_type": "execute_result"
    }
   ],
   "source": [
    "letters_src[1]"
   ]
  },
  {
   "cell_type": "code",
   "execution_count": 31,
   "metadata": {},
   "outputs": [
    {
     "data": {
      "text/plain": [
       "[7, 2, 1, 9, 9, 2, 3, 9, 7, 5]"
      ]
     },
     "execution_count": 31,
     "metadata": {},
     "output_type": "execute_result"
    }
   ],
   "source": [
    "answers_letters[1]"
   ]
  },
  {
   "cell_type": "code",
   "execution_count": 32,
   "metadata": {},
   "outputs": [],
   "source": [
    "with open(digits_file_answers, 'w') as f:\n",
    "    for _list in answers_digits:\n",
    "        s = \" \".join(_list) + \"\\n\"\n",
    "        f.write(s)"
   ]
  },
  {
   "cell_type": "code",
   "execution_count": 33,
   "metadata": {},
   "outputs": [],
   "source": [
    "with open(letters_file_answers, 'w') as f:\n",
    "    for _list in answers_letters:\n",
    "        s = \" \".join([str(d) for d in _list]) + \"\\n\"\n",
    "        f.write(s)"
   ]
  },
  {
   "cell_type": "code",
   "execution_count": null,
   "metadata": {},
   "outputs": [],
   "source": []
  }
 ],
 "metadata": {
  "kernelspec": {
   "display_name": "Python [conda env:konstrukt]",
   "language": "python",
   "name": "conda-env-konstrukt-py"
  },
  "language_info": {
   "codemirror_mode": {
    "name": "ipython",
    "version": 3
   },
   "file_extension": ".py",
   "mimetype": "text/x-python",
   "name": "python",
   "nbconvert_exporter": "python",
   "pygments_lexer": "ipython3",
   "version": "3.6.1"
  }
 },
 "nbformat": 4,
 "nbformat_minor": 2
}
