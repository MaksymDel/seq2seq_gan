{
 "cells": [
  {
   "cell_type": "code",
   "execution_count": 3,
   "metadata": {},
   "outputs": [
    {
     "data": {
      "text/plain": [
       "<torch._C.Generator at 0x7fe28fe46430>"
      ]
     },
     "execution_count": 3,
     "metadata": {},
     "output_type": "execute_result"
    }
   ],
   "source": [
    "torch.manual_seed(1)"
   ]
  },
  {
   "cell_type": "code",
   "execution_count": 1,
   "metadata": {},
   "outputs": [],
   "source": [
    "import torch"
   ]
  },
  {
   "cell_type": "code",
   "execution_count": 2,
   "metadata": {},
   "outputs": [
    {
     "data": {
      "text/plain": [
       "<torch._C.Generator at 0x7fe28fe46430>"
      ]
     },
     "execution_count": 2,
     "metadata": {},
     "output_type": "execute_result"
    }
   ],
   "source": []
  },
  {
   "cell_type": "code",
   "execution_count": 70,
   "metadata": {},
   "outputs": [],
   "source": [
    "x=torch.zeros(2,3)\n",
    "for i in range(2):\n",
    "    for j in range(3):\n",
    "        x[i,j] = j"
   ]
  },
  {
   "cell_type": "code",
   "execution_count": 79,
   "metadata": {},
   "outputs": [],
   "source": [
    "y=torch.zeros(2,3)\n",
    "for i in range(2):\n",
    "    for j in range(3):\n",
    "        y[i,j] = j"
   ]
  },
  {
   "cell_type": "code",
   "execution_count": 80,
   "metadata": {},
   "outputs": [],
   "source": [
    "w0 = torch.ones(3,3)\n",
    "for i in range(3):\n",
    "    for j in range(3):\n",
    "        w0[i,j] = j\n",
    "w0 = torch.nn.Parameter(w0)"
   ]
  },
  {
   "cell_type": "code",
   "execution_count": 81,
   "metadata": {},
   "outputs": [
    {
     "data": {
      "text/plain": [
       "tensor([[0., 1., 2.],\n",
       "        [0., 1., 2.]])"
      ]
     },
     "execution_count": 81,
     "metadata": {},
     "output_type": "execute_result"
    }
   ],
   "source": [
    "x"
   ]
  },
  {
   "cell_type": "code",
   "execution_count": 82,
   "metadata": {},
   "outputs": [],
   "source": [
    "w1 = torch.ones(3,3)\n",
    "for i in range(3):\n",
    "    for j in range(3):\n",
    "        w1[i,j] = j\n",
    "w1 = torch.nn.Parameter(w1)\n",
    "\n",
    "w2 = torch.ones(3,3)\n",
    "for i in range(3):\n",
    "    for j in range(3):\n",
    "        w2[i,j] = j + 1\n",
    "w2 = torch.nn.Parameter(w2)\n",
    "\n",
    "w3 = torch.ones(3,3)\n",
    "for i in range(3):\n",
    "    for j in range(3):\n",
    "        w3[i,j] = j + 2\n",
    "w3 = torch.nn.Parameter(w3)"
   ]
  },
  {
   "cell_type": "code",
   "execution_count": 83,
   "metadata": {},
   "outputs": [],
   "source": [
    "l1 = x.matmul(w1).sum()\n",
    "l2 = x.matmul(w2).sum()"
   ]
  },
  {
   "cell_type": "code",
   "execution_count": 84,
   "metadata": {},
   "outputs": [
    {
     "name": "stdout",
     "output_type": "stream",
     "text": [
      "None\n",
      "None\n"
     ]
    }
   ],
   "source": [
    "print(w1.grad)\n",
    "print(w2.grad)"
   ]
  },
  {
   "cell_type": "code",
   "execution_count": 75,
   "metadata": {},
   "outputs": [],
   "source": [
    "l1.backward(retain_graph=True)\n",
    "l2.backward(retain_graph=True)"
   ]
  },
  {
   "cell_type": "code",
   "execution_count": 76,
   "metadata": {},
   "outputs": [
    {
     "name": "stdout",
     "output_type": "stream",
     "text": [
      "tensor([[0., 0., 0.],\n",
      "        [2., 2., 2.],\n",
      "        [4., 4., 4.]])\n",
      "tensor([[0., 0., 0.],\n",
      "        [2., 2., 2.],\n",
      "        [4., 4., 4.]])\n"
     ]
    }
   ],
   "source": [
    "print(w1.grad)\n",
    "print(w2.grad)"
   ]
  },
  {
   "cell_type": "code",
   "execution_count": 90,
   "metadata": {},
   "outputs": [],
   "source": [
    "l3 = y.matmul(w0).matmu.sum()"
   ]
  },
  {
   "cell_type": "code",
   "execution_count": 91,
   "metadata": {},
   "outputs": [],
   "source": [
    "(l1+l2+l3).backward()"
   ]
  },
  {
   "cell_type": "code",
   "execution_count": 92,
   "metadata": {},
   "outputs": [
    {
     "name": "stdout",
     "output_type": "stream",
     "text": [
      "tensor([[0., 0., 0.],\n",
      "        [2., 2., 2.],\n",
      "        [4., 4., 4.]])\n",
      "tensor([[0., 0., 0.],\n",
      "        [2., 2., 2.],\n",
      "        [4., 4., 4.]])\n",
      "None\n",
      "tensor([[0., 0., 0.],\n",
      "        [2., 2., 2.],\n",
      "        [4., 4., 4.]])\n"
     ]
    }
   ],
   "source": [
    "print(w1.grad)\n",
    "print(w2.grad)\n",
    "print(w3.grad)\n",
    "print(w0.grad)"
   ]
  },
  {
   "cell_type": "code",
   "execution_count": null,
   "metadata": {},
   "outputs": [],
   "source": []
  }
 ],
 "metadata": {
  "kernelspec": {
   "display_name": "Python [conda env:konstrukt]",
   "language": "python",
   "name": "conda-env-konstrukt-py"
  },
  "language_info": {
   "codemirror_mode": {
    "name": "ipython",
    "version": 3
   },
   "file_extension": ".py",
   "mimetype": "text/x-python",
   "name": "python",
   "nbconvert_exporter": "python",
   "pygments_lexer": "ipython3",
   "version": "3.6.1"
  }
 },
 "nbformat": 4,
 "nbformat_minor": 2
}
