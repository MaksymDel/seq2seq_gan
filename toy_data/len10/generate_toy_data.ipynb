{
 "cells": [
  {
   "cell_type": "code",
   "execution_count": 1,
   "metadata": {},
   "outputs": [],
   "source": [
    "import numpy as np"
   ]
  },
  {
   "cell_type": "code",
   "execution_count": 2,
   "metadata": {},
   "outputs": [],
   "source": [
    "import matplotlib.pyplot as plt"
   ]
  },
  {
   "cell_type": "code",
   "execution_count": 3,
   "metadata": {},
   "outputs": [],
   "source": [
    "digits_vocab = \"1 2 3 4 5 6 7 8 9\".split()"
   ]
  },
  {
   "cell_type": "code",
   "execution_count": 4,
   "metadata": {},
   "outputs": [],
   "source": [
    "letters_vocab = \"a b c d e f g h i\".split()"
   ]
  },
  {
   "cell_type": "code",
   "execution_count": 5,
   "metadata": {},
   "outputs": [
    {
     "data": {
      "text/plain": [
       "True"
      ]
     },
     "execution_count": 5,
     "metadata": {},
     "output_type": "execute_result"
    }
   ],
   "source": [
    "len(letters_vocab) == len(digits_vocab)"
   ]
  },
  {
   "cell_type": "code",
   "execution_count": 6,
   "metadata": {},
   "outputs": [],
   "source": [
    "prob_distribution = np.random.sample(9)"
   ]
  },
  {
   "cell_type": "code",
   "execution_count": 7,
   "metadata": {},
   "outputs": [],
   "source": [
    "def normilize(x):\n",
    "    sm = float(sum(x))\n",
    "    return [e/sm for e in x]"
   ]
  },
  {
   "cell_type": "code",
   "execution_count": 8,
   "metadata": {},
   "outputs": [],
   "source": [
    "prob_distribution = normilize(prob_distribution)"
   ]
  },
  {
   "cell_type": "code",
   "execution_count": 9,
   "metadata": {},
   "outputs": [
    {
     "data": {
      "text/plain": [
       "[0.10404013300192003,\n",
       " 0.23705678235737745,\n",
       " 0.18756329819263273,\n",
       " 0.006350735868246853,\n",
       " 0.0507862626484068,\n",
       " 0.057612030175756036,\n",
       " 0.17284646154506364,\n",
       " 0.03761787655384599,\n",
       " 0.14612641965675055]"
      ]
     },
     "execution_count": 9,
     "metadata": {},
     "output_type": "execute_result"
    }
   ],
   "source": [
    "prob_distribution"
   ]
  },
  {
   "cell_type": "code",
   "execution_count": 10,
   "metadata": {},
   "outputs": [
    {
     "data": {
      "text/plain": [
       "[<matplotlib.lines.Line2D at 0x7ffa36b8b5f8>]"
      ]
     },
     "execution_count": 10,
     "metadata": {},
     "output_type": "execute_result"
    },
    {
     "data": {
      "image/png": "[encoded data removed]",
      "text/plain": [
       "<matplotlib.figure.Figure at 0x7ffa3f1324e0>"
      ]
     },
     "metadata": {},
     "output_type": "display_data"
    }
   ],
   "source": [
    "plt.title(\"Golden probablity distribution for both domains of numbers and letters\")\n",
    "plt.xticks(list(range(0,9)), letters_vocab)\n",
    "plt.plot(prob_distribution)"
   ]
  },
  {
   "cell_type": "markdown",
   "metadata": {},
   "source": [
    "# generate data of fixed length "
   ]
  },
  {
   "cell_type": "code",
   "execution_count": 11,
   "metadata": {},
   "outputs": [],
   "source": [
    "seq_len = 10\n",
    "num_examples = 100000"
   ]
  },
  {
   "cell_type": "code",
   "execution_count": 12,
   "metadata": {},
   "outputs": [],
   "source": [
    "all_letters = []\n",
    "all_digits = []\n",
    "for i in range(num_examples):\n",
    "    letters = np.random.choice(letters_vocab, size=seq_len, replace=True, p=prob_distribution)\n",
    "    digits = np.random.choice(digits_vocab, size=seq_len, replace=True, p=prob_distribution)\n",
    "    \n",
    "    letters = \" \".join(letters)\n",
    "    digits = \" \".join(digits)\n",
    "    \n",
    "    all_letters.append(letters)\n",
    "    all_digits.append(digits)    "
   ]
  },
  {
   "cell_type": "code",
   "execution_count": 13,
   "metadata": {},
   "outputs": [],
   "source": [
    "all_letters_plot = [e.split(\" \") for e in all_letters]"
   ]
  },
  {
   "cell_type": "code",
   "execution_count": 19,
   "metadata": {},
   "outputs": [],
   "source": [
    "flat_list_letters = [item for sublist in all_letters for item in sublist.split()]\n",
    "flat_list_digits = [item for sublist in all_digits for item in sublist.split()]"
   ]
  },
  {
   "cell_type": "code",
   "execution_count": 20,
   "metadata": {},
   "outputs": [
    {
     "data": {
      "text/plain": [
       "(array([104273., 236202., 187605.,   6406.,      0.,  50660.,  57695.,\n",
       "        173077.,  37749., 146333.]),\n",
       " array([0. , 0.8, 1.6, 2.4, 3.2, 4. , 4.8, 5.6, 6.4, 7.2, 8. ]),\n",
       " <a list of 10 Patch objects>)"
      ]
     },
     "execution_count": 20,
     "metadata": {},
     "output_type": "execute_result"
    },
    {
     "data": {
      "image/png": "[encoded data removed]",
      "text/plain": [
       "<matplotlib.figure.Figure at 0x7ffa34b16400>"
      ]
     },
     "metadata": {},
     "output_type": "display_data"
    }
   ],
   "source": [
    "plt.hist(flat_list_digits)"
   ]
  },
  {
   "cell_type": "code",
   "execution_count": 21,
   "metadata": {},
   "outputs": [
    {
     "data": {
      "text/plain": [
       "(array([104254., 237045., 187374.,   6359.,      0.,  51052.,  57736.,\n",
       "        172360.,  37887., 145933.]),\n",
       " array([0. , 0.8, 1.6, 2.4, 3.2, 4. , 4.8, 5.6, 6.4, 7.2, 8. ]),\n",
       " <a list of 10 Patch objects>)"
      ]
     },
     "execution_count": 21,
     "metadata": {},
     "output_type": "execute_result"
    },
    {
     "data": {
      "image/png": "[encoded data removed]",
      "text/plain": [
       "<matplotlib.figure.Figure at 0x7ffa34b16be0>"
      ]
     },
     "metadata": {},
     "output_type": "display_data"
    }
   ],
   "source": [
    "plt.hist(flat_list_letters)"
   ]
  },
  {
   "cell_type": "code",
   "execution_count": 40,
   "metadata": {},
   "outputs": [],
   "source": [
    "num_3 = 0\n",
    "for e in flat_list_digits:\n",
    "    if e == '3':\n",
    "        num_3 += 1"
   ]
  },
  {
   "cell_type": "code",
   "execution_count": 41,
   "metadata": {},
   "outputs": [
    {
     "data": {
      "text/plain": [
       "187605"
      ]
     },
     "execution_count": 41,
     "metadata": {},
     "output_type": "execute_result"
    }
   ],
   "source": [
    "num_3"
   ]
  },
  {
   "cell_type": "code",
   "execution_count": 42,
   "metadata": {},
   "outputs": [],
   "source": [
    "num_c = 0\n",
    "for e in flat_list_letters:\n",
    "    if e == 'c':\n",
    "        num_c += 1"
   ]
  },
  {
   "cell_type": "code",
   "execution_count": 43,
   "metadata": {},
   "outputs": [
    {
     "data": {
      "text/plain": [
       "187374"
      ]
     },
     "execution_count": 43,
     "metadata": {},
     "output_type": "execute_result"
    }
   ],
   "source": [
    "num_c"
   ]
  },
  {
   "cell_type": "code",
   "execution_count": 47,
   "metadata": {},
   "outputs": [],
   "source": [
    "dev_letters = []\n",
    "dev_digits = []\n",
    "num_dev = 1000\n",
    "for i in range(num_dev):\n",
    "    letters = np.random.choice(letters_vocab, size=seq_len, replace=True, p=prob_distribution)\n",
    "    digits = np.random.choice(digits_vocab, size=seq_len, replace=True, p=prob_distribution)\n",
    "    \n",
    "    letters = \" \".join(letters)\n",
    "    digits = \" \".join(digits)\n",
    "    \n",
    "    dev_letters.append(letters)\n",
    "    dev_digits.append(digits)    "
   ]
  },
  {
   "cell_type": "code",
   "execution_count": 48,
   "metadata": {},
   "outputs": [],
   "source": [
    "with open('../toy_data/train_letters_len10.txt', 'w') as f:\n",
    "    for l in all_letters:\n",
    "        f.write(\"%s\\n\" % l)\n",
    "        \n",
    "with open('../toy_data/train_digits_len10.txt', 'w') as f:\n",
    "    for l in all_digits:\n",
    "        f.write(\"%s\\n\" % l)\n",
    "\n",
    "with open('../toy_data/dev_letters_len10.txt', 'w') as f:\n",
    "    for l in dev_letters:\n",
    "        f.write(\"%s\\n\" % l)\n",
    "        \n",
    "with open('../toy_data/dev_digits_len10.txt', 'w') as f:\n",
    "    for l in dev_digits:\n",
    "        f.write(\"%s\\n\" % l)"
   ]
  },
  {
   "cell_type": "code",
   "execution_count": null,
   "metadata": {},
   "outputs": [],
   "source": []
  }
 ],
 "metadata": {
  "kernelspec": {
   "display_name": "Python [default]",
   "language": "python",
   "name": "python3"
  },
  "language_info": {
   "codemirror_mode": {
    "name": "ipython",
    "version": 3
   },
   "file_extension": ".py",
   "mimetype": "text/x-python",
   "name": "python",
   "nbconvert_exporter": "python",
   "pygments_lexer": "ipython3",
   "version": "3.6.4"
  }
 },
 "nbformat": 4,
 "nbformat_minor": 2
}
